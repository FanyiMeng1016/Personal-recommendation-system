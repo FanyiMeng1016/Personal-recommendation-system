{
 "cells": [
  {
   "cell_type": "code",
   "execution_count": null,
   "metadata": {},
   "outputs": [],
   "source": [
    "##Content-based Recommendations\n",
    "\n",
    "#vogue-content"
   ]
  },
  {
   "cell_type": "code",
   "execution_count": 1,
   "metadata": {},
   "outputs": [],
   "source": [
    "#1.Prepare a dataset / TF-IDF\n",
    "import pandas as pd\n",
    "\n",
    "data = {\n",
    "    'article_id': [1, 2, 3, 4, 5],\n",
    "    'title': [\n",
    "        '2023 Fashion Trends: What to Wear',\n",
    "        'Best Skincare Routines for Glowing Skin',\n",
    "        'Celebrity Style: Red Carpet Looks',\n",
    "        'Top 10 Summer Makeup Tips',\n",
    "        'Exclusive Interview with Fashion Icon'\n",
    "    ],\n",
    "    'content': [\n",
    "        'Discover the latest fashion trends for 2024 including bold colors, oversized coats, and statement accessories.',\n",
    "        'A guide to the best skincare routines to achieve glowing skin, from daily cleansers to moisturizers.',\n",
    "        'A look at the best celebrity outfits from the latest red carpet events, including designer gowns and accessories.',\n",
    "        'Get ready for summer with these top 10 makeup tips, including bronzers, waterproof mascara, and bright lipstick.',\n",
    "        'An exclusive interview with a fashion icon, discussing personal style, career, and inspirations.'\n",
    "    ]\n",
    "}\n",
    "\n",
    "# convert to DataFrame\n",
    "df = pd.DataFrame(data)"
   ]
  },
  {
   "cell_type": "code",
   "execution_count": 2,
   "metadata": {},
   "outputs": [
    {
     "name": "stdout",
     "output_type": "stream",
     "text": [
      "(5, 48)\n"
     ]
    }
   ],
   "source": [
    "from sklearn.feature_extraction.text import TfidfVectorizer\n",
    "\n",
    "# 2.Vectorize Text Using TF-IDF\n",
    "tfidf = TfidfVectorizer(stop_words='english')\n",
    "\n",
    "# Fit and transform the content into a TF-IDF matrix\n",
    "tfidf_matrix = tfidf.fit_transform(df['content'])\n",
    "\n",
    "# Output (5, N)，5 articles and N special words\n",
    "print(tfidf_matrix.shape)\n",
    "\n"
   ]
  },
  {
   "cell_type": "code",
   "execution_count": 3,
   "metadata": {},
   "outputs": [
    {
     "name": "stdout",
     "output_type": "stream",
     "text": [
      "[[1.         0.         0.16828207 0.04302347 0.06862003]\n",
      " [0.         1.         0.06496773 0.         0.        ]\n",
      " [0.16828207 0.06496773 1.         0.04302347 0.        ]\n",
      " [0.04302347 0.         0.04302347 1.         0.        ]\n",
      " [0.06862003 0.         0.         0.         1.        ]]\n"
     ]
    }
   ],
   "source": [
    "#3.3. Compute the Cosine Similarity Matrix\n",
    "\n",
    "from sklearn.metrics.pairwise import linear_kernel\n",
    "\n",
    "# Compute the cosine similarity matrix\n",
    "cosine_sim = linear_kernel(tfidf_matrix, tfidf_matrix)\n",
    "\n",
    "# Print the similarity matrix (it shows similarity scores between all articles)\n",
    "print(cosine_sim)"
   ]
  },
  {
   "cell_type": "code",
   "execution_count": 4,
   "metadata": {},
   "outputs": [
    {
     "name": "stdout",
     "output_type": "stream",
     "text": [
      "0          2023 Fashion Trends: What to Wear\n",
      "1    Best Skincare Routines for Glowing Skin\n",
      "3                  Top 10 Summer Makeup Tips\n",
      "4      Exclusive Interview with Fashion Icon\n",
      "Name: title, dtype: object\n"
     ]
    }
   ],
   "source": [
    "# Function to get recommendations based on an article title\n",
    "def get_recommendations(article_title, cosine_sim=cosine_sim):\n",
    "    # Find the index of the article that matches the title\n",
    "    idx = df[df['title'] == article_title].index[0]\n",
    "    \n",
    "    # Get similarity scores for all articles with the selected article\n",
    "    sim_scores = list(enumerate(cosine_sim[idx]))\n",
    "    \n",
    "    # Sort the articles based on similarity scores (in descending order)\n",
    "    sim_scores = sorted(sim_scores, key=lambda x: x[1], reverse=True)\n",
    "    \n",
    "    # Get the top 5 most similar articles (excluding the article itself)\n",
    "    sim_scores = sim_scores[1:6]\n",
    "    \n",
    "    # Get the indices of the most similar articles\n",
    "    article_indices = [i[0] for i in sim_scores]\n",
    "    \n",
    "    # Return the titles of the recommended articles\n",
    "    return df['title'].iloc[article_indices]\n",
    "\n",
    "# Test the recommendation system\n",
    "print(get_recommendations('Celebrity Style: Red Carpet Looks'))\n"
   ]
  }
 ],
 "metadata": {
  "kernelspec": {
   "display_name": "aim",
   "language": "python",
   "name": "python3"
  },
  "language_info": {
   "codemirror_mode": {
    "name": "ipython",
    "version": 3
   },
   "file_extension": ".py",
   "mimetype": "text/x-python",
   "name": "python",
   "nbconvert_exporter": "python",
   "pygments_lexer": "ipython3",
   "version": "3.9.18"
  }
 },
 "nbformat": 4,
 "nbformat_minor": 2
}
